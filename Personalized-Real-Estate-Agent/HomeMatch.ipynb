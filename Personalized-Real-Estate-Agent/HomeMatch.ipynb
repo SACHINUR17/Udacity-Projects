{
 "cells": [
  {
   "cell_type": "markdown",
   "id": "a108af04",
   "metadata": {},
   "source": [
    "This is a starter notebook for the project, you'll have to import the libraries you'll need, you can find a list of the ones available in this workspace in the requirements.txt file in this workspace. "
   ]
  },
  {
   "cell_type": "markdown",
   "id": "24a58c01",
   "metadata": {},
   "source": [
    "## Import Necessary Modules"
   ]
  },
  {
   "cell_type": "code",
   "execution_count": 1,
   "id": "6554fd4c",
   "metadata": {},
   "outputs": [],
   "source": [
    "import os\n",
    "import pandas as pd\n",
    "import openai\n",
    "import logging"
   ]
  },
  {
   "cell_type": "markdown",
   "id": "b30951b4",
   "metadata": {},
   "source": [
    "## Step 1: Initialize OpenAI API"
   ]
  },
  {
   "cell_type": "code",
   "execution_count": 2,
   "id": "9bfa1a96",
   "metadata": {},
   "outputs": [
    {
     "name": "stderr",
     "output_type": "stream",
     "text": [
      "INFO:__main__:Starting the script.\n"
     ]
    }
   ],
   "source": [
    "# Step 1: Initialize OpenAI and ChromaDB\n",
    "os.environ[\"OPENAI_API_KEY\"] = \"YOUR API KEY\"\n",
    "os.environ[\"OPENAI_API_BASE\"] = \"https://openai.vocareum.com/v1\"\n",
    "\n",
    "# Initialize OpenAI API\n",
    "openai.api_key = os.environ[\"OPENAI_API_KEY\"]\n",
    "openai.api_base = os.environ[\"OPENAI_API_BASE\"]\n",
    "\n",
    "# Setup logging\n",
    "logging.basicConfig(level=logging.INFO)\n",
    "logger = logging.getLogger(__name__)\n",
    "\n",
    "logger.info(\"Starting the script.\")"
   ]
  },
  {
   "cell_type": "markdown",
   "id": "ec8e2abd",
   "metadata": {},
   "source": [
    "### Generating and Parsing Real Estate Listings\n",
    "\n"
   ]
  },
  {
   "cell_type": "code",
   "execution_count": 3,
   "id": "0e2ee235",
   "metadata": {},
   "outputs": [
    {
     "name": "stderr",
     "output_type": "stream",
     "text": [
      "INFO:__main__:Loaded listings from ./real_estate_listings.csv.\n"
     ]
    }
   ],
   "source": [
    "# File paths\n",
    "listings_csv_path = './real_estate_listings.csv'\n",
    "\n",
    "def generate_listing():\n",
    "    prompt = \"\"\"Generate a detailed real estate listing with the following format:\n",
    "Neighborhood: <Neighborhood Name>\n",
    "Price: <$Price>\n",
    "Bedrooms: <Number of Bedrooms>\n",
    "Bathrooms: <Number of Bathrooms>\n",
    "House Size: <Size in sqft>\n",
    "\n",
    "Description: <Detailed description of the property>\n",
    "\n",
    "Neighborhood Description: <Description of the neighborhood>\n",
    "\"\"\"\n",
    "    response = openai.ChatCompletion.create(\n",
    "        model=\"gpt-3.5-turbo\",\n",
    "        messages=[{\"role\": \"system\", \"content\": prompt}],\n",
    "        max_tokens=500\n",
    "    )\n",
    "    return response['choices'][0]['message']['content'].strip()\n",
    "\n",
    "def parse_listing(listing):\n",
    "    lines = listing.split('\\n')\n",
    "    listing_dict = {\n",
    "        'Neighborhood': '',\n",
    "        'Price': '',\n",
    "        'Bedrooms': '',\n",
    "        'Bathrooms': '',\n",
    "        'House Size': '',\n",
    "        'Description': '',\n",
    "        'Neighborhood Description': ''\n",
    "    }\n",
    "\n",
    "    for line in lines:\n",
    "        if line.startswith('Neighborhood:'):\n",
    "            listing_dict['Neighborhood'] = line.split('Neighborhood: ')[1]\n",
    "        elif line.startswith('Price:'):\n",
    "            listing_dict['Price'] = line.split('Price: ')[1]\n",
    "        elif line.startswith('Bedrooms:'):\n",
    "            listing_dict['Bedrooms'] = line.split('Bedrooms: ')[1]\n",
    "        elif line.startswith('Bathrooms:'):\n",
    "            listing_dict['Bathrooms'] = line.split('Bathrooms: ')[1]\n",
    "        elif line.startswith('House Size:'):\n",
    "            listing_dict['House Size'] = line.split('House Size: ')[1]\n",
    "        elif line.startswith('Description:'):\n",
    "            description = line.split('Description: ')[1]\n",
    "            for next_line in lines[lines.index(line) + 1:]:\n",
    "                if next_line.startswith('Neighborhood Description:'):\n",
    "                    break\n",
    "                description += ' ' + next_line.strip()\n",
    "            listing_dict['Description'] = description\n",
    "        elif line.startswith('Neighborhood Description:'):\n",
    "            neighborhood_description = line.split('Neighborhood Description: ')[1]\n",
    "            for next_line in lines[lines.index(line) + 1:]:\n",
    "                neighborhood_description += ' ' + next_line.strip()\n",
    "            listing_dict['Neighborhood Description'] = neighborhood_description\n",
    "\n",
    "    return listing_dict\n",
    "\n",
    "# Step 2: Generating Real Estate Listings (if not already generated)\n",
    "if not os.path.exists(listings_csv_path):\n",
    "    logger.info(\"Generating real estate listings.\")\n",
    "    listings = []\n",
    "\n",
    "    for i in range(10):\n",
    "        listing = generate_listing()\n",
    "        parsed_listing = parse_listing(listing)\n",
    "        listings.append(parsed_listing)\n",
    "        logger.info(f\"Generated listing {i+1}: {listing[:60]}...\")\n",
    "\n",
    "    # Save listings to CSV\n",
    "    df_listings = pd.DataFrame(listings)\n",
    "    df_listings.to_csv(listings_csv_path, index=False)\n",
    "    logger.info(f\"Saved generated listings to {listings_csv_path}.\")\n",
    "else:\n",
    "    # Load listings from CSV\n",
    "    df_listings = pd.read_csv(listings_csv_path)\n",
    "    listings = df_listings.to_dict('records')\n",
    "    logger.info(f\"Loaded listings from {listings_csv_path}.\")"
   ]
  },
  {
   "cell_type": "markdown",
   "id": "f49fd8a5",
   "metadata": {},
   "source": [
    "### Setting Up Real Estate Listings Retrieval and Personalization"
   ]
  },
  {
   "cell_type": "code",
   "execution_count": 4,
   "id": "7dd68ce7",
   "metadata": {},
   "outputs": [
    {
     "name": "stderr",
     "output_type": "stream",
     "text": [
      "/home/work/miniconda3/envs/agent/lib/python3.10/site-packages/langchain/llms/openai.py:202: UserWarning: You are trying to use a chat model. This way of initializing it is no longer supported. Instead, please use: `from langchain.chat_models import ChatOpenAI`\n",
      "  warnings.warn(\n",
      "/home/work/miniconda3/envs/agent/lib/python3.10/site-packages/langchain/llms/openai.py:790: UserWarning: You are trying to use a chat model. This way of initializing it is no longer supported. Instead, please use: `from langchain.chat_models import ChatOpenAI`\n",
      "  warnings.warn(\n",
      "INFO:chromadb.telemetry.posthog:Anonymized telemetry enabled. See https://docs.trychroma.com/telemetry for more information.\n"
     ]
    }
   ],
   "source": [
    "import os\n",
    "import pandas as pd\n",
    "from langchain.document_loaders.csv_loader import CSVLoader\n",
    "from langchain.embeddings.openai import OpenAIEmbeddings\n",
    "from langchain.llms import OpenAI\n",
    "from langchain.text_splitter import CharacterTextSplitter\n",
    "from langchain.vectorstores import Chroma\n",
    "from langchain.chains import RetrievalQA\n",
    "from langchain.prompts import PromptTemplate\n",
    "from langchain.chains.question_answering import load_qa_chain\n",
    "\n",
    "# Initialize OpenAI API\n",
    "openai.api_key = os.environ[\"OPENAI_API_KEY\"]\n",
    "openai.api_base = os.environ[\"OPENAI_API_BASE\"]\n",
    "\n",
    "# Load real estate listings from CSV\n",
    "loader = CSVLoader(file_path='./real_estate_listings.csv')\n",
    "docs = loader.load()\n",
    "\n",
    "# Initialize the language model\n",
    "model_name = 'gpt-3.5-turbo'\n",
    "llm = OpenAI(model_name=model_name, temperature=0, max_tokens=2000)\n",
    "\n",
    "# Split documents into manageable chunks\n",
    "splitter = CharacterTextSplitter(chunk_size=1000, chunk_overlap=0)\n",
    "split_docs = splitter.split_documents(docs)\n",
    "\n",
    "# Create embeddings for the documents\n",
    "embeddings = OpenAIEmbeddings()\n",
    "\n",
    "# Store documents in Chroma vector database\n",
    "db = Chroma.from_documents(split_docs, embeddings)\n",
    "\n",
    "\n",
    "# Step 4: Building the User Preference Interface\n",
    "questions = [\n",
    "    \"How big do you want your house to be?\", \n",
    "    \"What are the 3 most important things for you in choosing this property?\", \n",
    "    \"Which amenities would you like?\", \n",
    "    \"Which transportation options are important to you?\", \n",
    "    \"How urban do you want your neighborhood to be?\"\n",
    "]\n",
    "\n",
    "answers1 = [\n",
    "    \"A luxurious five-bedroom villa with high-end finishes and top-of-the-line appliances.\",\n",
    "    \"An exclusive, upscale neighborhood with world-class shopping, dining, and entertainment options.\",\n",
    "    \"A gourmet chef's kitchen, a grand foyer, and a beautifully landscaped backyard with a pool and outdoor kitchen.\",\n",
    "    \"Privacy and security in a gated community with access to top-rated schools and public parks.\",\n",
    "    \"A prestigious area known for its celebrity residents and luxurious lifestyle.\"\n",
    "]\n",
    "\n",
    "# property_name1 = \"Beverly Hills\"\n",
    "\n",
    "\n",
    "answers2 = [\n",
    "    \"A charming three-bedroom townhouse with hardwood floors and high ceilings.\",\n",
    "    \"A vibrant neighborhood with historic brownstones and a lively community.\",\n",
    "    \"A modern kitchen with granite countertops and a backyard for relaxing.\",\n",
    "    \"Proximity to a park with walking and biking paths, playgrounds, and recreational facilities.\",\n",
    "    \"Excellent schools and easy access to public transportation and diverse amenities.\"\n",
    "]"
   ]
  },
  {
   "cell_type": "markdown",
   "id": "cf599b35",
   "metadata": {},
   "source": [
    "### Function to Retrieve and Personalize Real Estate Listings Based on Buyer Preferences"
   ]
  },
  {
   "cell_type": "code",
   "execution_count": 5,
   "id": "eb7e8e91",
   "metadata": {},
   "outputs": [],
   "source": [
    "def get_personalized_listings(answers):\n",
    "    # Buyer Preference Parsing\n",
    "    preferences = \" \".join(answers)\n",
    "\n",
    "    # Step 5: Searching Based on Preferences\n",
    "    query = f\"\"\"\n",
    "        Based on the listings in the context, find properties that match the following buyer preferences:\n",
    "        {preferences}\n",
    "        \"\"\"\n",
    "\n",
    "    use_chain_helper = False\n",
    "    if use_chain_helper:\n",
    "        rag = RetrievalQA.from_chain_type(llm=llm, chain_type=\"stuff\", retriever=db.as_retriever())\n",
    "        result = rag.run(query)\n",
    "    else:\n",
    "        similar_docs = db.similarity_search(query, k=1)\n",
    "        context = \"\\n\".join([doc.page_content for doc in similar_docs])\n",
    "        prompt = PromptTemplate(\n",
    "            template=\"{query}\\nContext: {context}\",\n",
    "            input_variables=[\"query\", \"context\"],\n",
    "        )\n",
    "        chain = load_qa_chain(llm, prompt=prompt, chain_type=\"stuff\")\n",
    "        result = chain.run(input_documents=similar_docs, query=query)\n",
    "\n",
    "    # Step 6: Personalizing Listing Descriptions\n",
    "    personalized_descriptions = []\n",
    "\n",
    "    # Create an instance of the language model with higher temperature for creativity\n",
    "    creative_llm = OpenAI(model_name=model_name, temperature=0.8, max_tokens=2000)\n",
    "\n",
    "    for doc in similar_docs:\n",
    "        listing = doc.page_content\n",
    "        augmented_listing = creative_llm(f\"Tailor this listing to emphasize the buyer's preferences: {preferences}\\n\\n{listing}\")\n",
    "        personalized_descriptions.append(augmented_listing)\n",
    "\n",
    "    # Output the results\n",
    "    for idx, description in enumerate(personalized_descriptions, 1):\n",
    "        print(f\"Personalized Listing {idx}:\\n{description}\\n\")"
   ]
  },
  {
   "cell_type": "markdown",
   "id": "c44c5587",
   "metadata": {},
   "source": [
    "### Demo"
   ]
  },
  {
   "cell_type": "code",
   "execution_count": 6,
   "id": "3ec6217b",
   "metadata": {},
   "outputs": [
    {
     "name": "stdout",
     "output_type": "stream",
     "text": [
      "Personalized Listing 1:\n",
      "Don't miss out on the opportunity to own this luxurious five-bedroom villa in the prestigious Beverly Hills neighborhood. With high-end finishes, top-of-the-line appliances, and a gourmet chef's kitchen, this home is perfect for those who appreciate the finer things in life. Enjoy privacy and security in a gated community, with access to top-rated schools and public parks. Indulge in the upscale shopping, dining, and entertainment options just minutes away. Join the ranks of celebrity residents and live the luxurious lifestyle you deserve in Beverly Hills. Offered at $5,000,000, this is a once-in-a-lifetime opportunity not to be missed.\n",
      "\n"
     ]
    }
   ],
   "source": [
    "get_personalized_listings(answers1)\n",
    "# expected answer: Beverly Hills"
   ]
  },
  {
   "cell_type": "code",
   "execution_count": 7,
   "id": "26012306",
   "metadata": {},
   "outputs": [
    {
     "name": "stdout",
     "output_type": "stream",
     "text": [
      "Personalized Listing 1:\n",
      "\n",
      "\n",
      "Don't miss out on this opportunity to own a charming townhouse in the heart of Park Slope! With its hardwood floors, high ceilings, and modern kitchen, this home is perfect for buyers who appreciate a mix of historic charm and contemporary design. Enjoy the vibrant neighborhood with its historic brownstones and lively community, and take advantage of the nearby park with walking and biking paths, playgrounds, and recreational facilities. With excellent schools and easy access to public transportation, this townhouse offers a convenient and comfortable lifestyle for you and your family. Listed at $1,200,000, this home won't be on the market for long - schedule a showing today!\n",
      "\n"
     ]
    }
   ],
   "source": [
    "get_personalized_listings(answers2)\n",
    "# expected answer: Park Slope"
   ]
  },
  {
   "cell_type": "code",
   "execution_count": 8,
   "id": "efc238cf",
   "metadata": {},
   "outputs": [
    {
     "name": "stdout",
     "output_type": "stream",
     "text": [
      "Personalized Listing 1:\n",
      "Don't miss out on this spacious four-bedroom home in the peaceful Hilltop Estates neighborhood! The master suite features a walk-in closet and luxurious en-suite bathroom with dual vanity sinks, soaking tub, and separate shower. The open concept layout includes a modern kitchen with stainless steel appliances, granite countertops, and a large island perfect for gathering. Outside, the beautifully landscaped backyard is ideal for entertaining and family gatherings with a patio and plenty of green space. With nearby parks, sidewalks, and easy access to shops, restaurants, and schools, Hilltop Estates offers the perfect blend of suburban tranquility and urban accessibility. Schedule a tour today and make this your dream home!\n",
      "\n"
     ]
    }
   ],
   "source": [
    "answers3 = [\n",
    "    \"A spacious four-bedroom home with a master suite featuring a walk-in closet and en-suite bathroom with dual vanity sinks, a soaking tub, and a separate shower.\",\n",
    "    \"A peaceful neighborhood known for its well-maintained properties, family-friendly environment, and nearby park with sidewalks for strolling and outdoor activities.\",\n",
    "    \"An open concept layout with a modern kitchen equipped with stainless steel appliances, granite countertops, and a large island perfect for gathering.\",\n",
    "    \"A beautifully landscaped backyard with a patio and plenty of green space, ideal for entertaining and family gatherings.\",\n",
    "    \"Conveniently located near a variety of shops, restaurants, and schools, offering the perfect blend of suburban tranquility and accessibility to urban amenities.\"\n",
    "]\n",
    "\n",
    "# expected answer: Hilltop Estates\n",
    "\n",
    "get_personalized_listings(answers3)"
   ]
  },
  {
   "cell_type": "code",
   "execution_count": null,
   "id": "a487d34e",
   "metadata": {},
   "outputs": [],
   "source": []
  }
 ],
 "metadata": {
  "kernelspec": {
   "display_name": "Python 3 (ipykernel)",
   "language": "python",
   "name": "python3"
  },
  "language_info": {
   "codemirror_mode": {
    "name": "ipython",
    "version": 3
   },
   "file_extension": ".py",
   "mimetype": "text/x-python",
   "name": "python",
   "nbconvert_exporter": "python",
   "pygments_lexer": "ipython3",
   "version": "3.10.11"
  }
 },
 "nbformat": 4,
 "nbformat_minor": 5
}
